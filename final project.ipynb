{
 "cells": [
  {
   "cell_type": "markdown",
   "id": "e4443d6fe3ba447f",
   "metadata": {
    "collapsed": false,
    "jupyter": {
     "outputs_hidden": false
    }
   },
   "source": [
    "# The Comparative Study of Neural Networks and Tsetlin Machines: An Analysis of Performance, Explainability, and Energy Efficiency"
   ]
  },
  {
   "cell_type": "markdown",
   "id": "180ae0af-3988-4d60-aab7-3c501d0e3db9",
   "metadata": {},
   "source": [
    "### Importing dependencies"
   ]
  },
  {
   "cell_type": "code",
   "execution_count": 1,
   "id": "initial_id",
   "metadata": {
    "ExecuteTime": {
     "end_time": "2024-08-22T19:44:59.202661800Z",
     "start_time": "2024-08-22T19:44:44.942806300Z"
    }
   },
   "outputs": [
    {
     "name": "stdout",
     "output_type": "stream",
     "text": [
      "2024-08-22 21:41:52,627 - tmu.util.cuda_profiler - WARNING - Could not import pycuda: No module named 'pycuda'\n",
      "2024-08-22 21:41:52,628 - tmu.clause_bank.clause_bank_cuda - ERROR - No module named 'pycuda'\n",
      "Traceback (most recent call last):\n",
      "  File \"D:\\FinalProject\\venv\\Lib\\site-packages\\tmu\\clause_bank\\clause_bank_cuda.py\", line 41, in <module>\n",
      "    from pycuda._driver import Device, Context\n",
      "ModuleNotFoundError: No module named 'pycuda'\n",
      "2024-08-22 21:41:52,629 - tmu.clause_bank.clause_bank_cuda - WARNING - Could not import pycuda. This indicates that it is not installed! A possible fix is to run 'pip install pycuda'. Fallback to CPU ClauseBanks.\n"
     ]
    }
   ],
   "source": [
    "import time\n",
    "import psutil\n",
    "import tensorflow as tf\n",
    "import numpy as np\n",
    "import matplotlib.pyplot as plt\n",
    "from sklearn.datasets import fetch_kddcup99, load_wine, load_iris\n",
    "from sklearn.model_selection import train_test_split\n",
    "from sklearn.preprocessing import OneHotEncoder, StandardScaler\n",
    "from sklearn.compose import ColumnTransformer\n",
    "from tmu.models.classification.vanilla_classifier import TMClassifier\n",
    "from sklearn.feature_extraction.text import CountVectorizer\n",
    "from sklearn.feature_selection import SelectKBest, chi2\n",
    "from scipy.sparse import csr_matrix\n",
    "from tmu.data import MNIST\n"
   ]
  },
  {
   "cell_type": "markdown",
   "id": "ad1542c1c2cb1330",
   "metadata": {
    "collapsed": false,
    "jupyter": {
     "outputs_hidden": false
    }
   },
   "source": [
    "### Memory detection function"
   ]
  },
  {
   "cell_type": "code",
   "execution_count": 2,
   "id": "9e9b5686-6ead-4ca5-be74-384508b3baee",
   "metadata": {
    "ExecuteTime": {
     "start_time": "2024-08-22T19:44:59.201669100Z"
    }
   },
   "outputs": [],
   "source": [
    "def measure_memory():\n",
    "    process = psutil.Process()\n",
    "    memory_usage = process.memory_info().rss / (1024 * 1024)\n",
    "    return memory_usage"
   ]
  },
  {
   "cell_type": "markdown",
   "id": "5d88e309-84c9-48ab-a853-e249cd785ab0",
   "metadata": {},
   "source": [
    "### Data preprocessing"
   ]
  },
  {
   "cell_type": "code",
   "execution_count": 3,
   "id": "e6c58b0b-8aec-411a-9780-52e8022e5b21",
   "metadata": {
    "ExecuteTime": {
     "start_time": "2024-08-22T19:44:59.202661800Z"
    }
   },
   "outputs": [],
   "source": [
    "def preprocess_iris():\n",
    "    iris = load_iris()\n",
    "    X = iris.data\n",
    "    y = iris.target\n",
    "\n",
    "    y = y.reshape(-1, 1)\n",
    "    encoder = OneHotEncoder(sparse_output=False)\n",
    "    y = encoder.fit_transform(y)\n",
    "\n",
    "    X_train, X_test, y_train, y_test = train_test_split(X, y, test_size=0.2, random_state=42)\n",
    "    return X_train, X_test, y_train, y_test, X_train.shape[1], y_train.shape[1]"
   ]
  },
  {
   "cell_type": "code",
   "execution_count": 4,
   "id": "90f2aee3-a656-400f-ba1e-edc995818c01",
   "metadata": {
    "ExecuteTime": {
     "end_time": "2024-08-22T19:44:59.203661700Z",
     "start_time": "2024-08-22T19:44:59.203661700Z"
    }
   },
   "outputs": [],
   "source": [
    "def preprocess_wine():\n",
    "    wine = load_wine()\n",
    "    X, y = wine.data, wine.target\n",
    "\n",
    "    scaler = StandardScaler() #Standardization adjusts the data so that it has a mean of 0 and a standard deviation of 1.\n",
    "    X_scaled = scaler.fit_transform(X)\n",
    "    \n",
    "    encoder = OneHotEncoder(sparse_output=False)  \n",
    "    y_onehot = encoder.fit_transform(y.reshape(-1, 1))\n",
    "\n",
    "    X_train, X_test, y_train, y_test = train_test_split(X_scaled, y_onehot, test_size=0.2, random_state=42)\n",
    "    return X_train, X_test, y_train, y_test, X_train.shape[1], y_train.shape[1]"
   ]
  },
  {
   "cell_type": "code",
   "execution_count": 5,
   "id": "5d0cd3c4-99ff-4ac5-aa7c-174bf05a91bb",
   "metadata": {
    "ExecuteTime": {
     "start_time": "2024-08-22T19:44:59.204664400Z"
    }
   },
   "outputs": [],
   "source": [
    "def preprocess_imdb():\n",
    "    (X_train, y_train), (X_test, y_test) = tf.keras.datasets.imdb.load_data(num_words=5000)\n",
    "\n",
    "    X_train = tf.keras.preprocessing.sequence.pad_sequences(X_train, maxlen=256)\n",
    "    X_test = tf.keras.preprocessing.sequence.pad_sequences(X_test, maxlen=256)\n",
    "    \n",
    "    y_train = tf.keras.utils.to_categorical(y_train, 2)\n",
    "    y_test = tf.keras.utils.to_categorical(y_test, 2)\n",
    "    \n",
    "    return X_train, X_test, y_train, y_test, X_train.shape[1], y_train.shape[1]"
   ]
  },
  {
   "cell_type": "code",
   "execution_count": 6,
   "id": "6bd63b8f-bf16-4805-9c93-322c16097452",
   "metadata": {
    "ExecuteTime": {
     "start_time": "2024-08-22T19:44:59.223758600Z"
    }
   },
   "outputs": [],
   "source": [
    "def preprocess_mnist():\n",
    "    (X_train, y_train), (X_test, y_test) = tf.keras.datasets.mnist.load_data()\n",
    "    X_train = X_train.reshape(-1, 28 * 28) / 255.0\n",
    "    X_test = X_test.reshape(-1, 28 * 28) / 255.0\n",
    "\n",
    "    y_train = tf.keras.utils.to_categorical(y_train, 10)\n",
    "    y_test = tf.keras.utils.to_categorical(y_test, 10)\n",
    "\n",
    "    return X_train, X_test, y_train, y_test, X_train.shape[1], y_train.shape[1]"
   ]
  },
  {
   "cell_type": "markdown",
   "id": "5b906d03-3aa8-425b-9139-68b1add4ec27",
   "metadata": {},
   "source": [
    "### Model Architecture Function Creation"
   ]
  },
  {
   "cell_type": "code",
   "execution_count": 7,
   "id": "d9996777-1901-4257-8b36-3b0f17d8add9",
   "metadata": {
    "ExecuteTime": {
     "start_time": "2024-08-22T19:44:59.315386700Z"
    }
   },
   "outputs": [],
   "source": [
    "def train_nn_iris(X_train, y_train, X_test, y_test, input_shape, epochs=20, target_accuracy=90):\n",
    "    model = tf.keras.Sequential([\n",
    "        tf.keras.Input(shape=(input_shape,)),\n",
    "        tf.keras.layers.Dense(500, activation='relu'),\n",
    "        tf.keras.layers.Dense(500, activation='relu'),\n",
    "        tf.keras.layers.Dropout(0.2),\n",
    "        tf.keras.layers.Dense(3, activation='softmax')\n",
    "    ])\n",
    "\n",
    "    model.compile(optimizer='adam', loss='categorical_crossentropy', metrics=['accuracy'])\n",
    "\n",
    "    start_time = time.time()\n",
    "    memory_before = measure_memory()\n",
    "    epochs_used = 0\n",
    "\n",
    "    for epoch in range(epochs):\n",
    "        model.fit(X_train, y_train, epochs=1, validation_split=0.2, verbose=2)\n",
    "        test_loss, test_accuracy = model.evaluate(X_test, y_test, verbose=2)\n",
    "        print(f\"Epoch {epoch + 1}: Test Accuracy = {test_accuracy * 100:.2f}%\")\n",
    "        epochs_used = epoch + 1\n",
    "\n",
    "        if test_accuracy * 100 >= target_accuracy:\n",
    "            print(f\"Target accuracy of {target_accuracy}% reached. Stopping training.\")\n",
    "            break\n",
    "\n",
    "    memory_after = measure_memory()\n",
    "    train_time = time.time() - start_time\n",
    "    memory_used = memory_after - memory_before\n",
    "\n",
    "    final_train_accuracy = model.evaluate(X_train, y_train, verbose=0)[1] * 100\n",
    "\n",
    "    return final_train_accuracy, test_accuracy * 100, train_time, memory_used, epochs_used"
   ]
  },
  {
   "cell_type": "code",
   "execution_count": 8,
   "id": "15426179-1514-4ff6-9fe9-05b094c0b139",
   "metadata": {
    "ExecuteTime": {
     "start_time": "2024-08-22T19:44:59.459730900Z"
    }
   },
   "outputs": [],
   "source": [
    "def train_nn_wine(X_train, y_train, X_test, y_test, input_shape, num_classes, epochs=50, target_accuracy=90):\n",
    "    model = tf.keras.Sequential([\n",
    "        tf.keras.layers.Input(shape=(X_train.shape[1],)),\n",
    "        tf.keras.layers.Dense(64, activation='relu'),\n",
    "        tf.keras.layers.Dense(32, activation='relu'),\n",
    "        tf.keras.layers.Dense(y_train.shape[1], activation='softmax')\n",
    "    ])\n",
    "\n",
    "    model.compile(optimizer='adam', loss='categorical_crossentropy', metrics=['accuracy'])\n",
    "\n",
    "    start_time = time.time()\n",
    "    memory_before = measure_memory()\n",
    "    epochs_used = 0\n",
    "\n",
    "    for epoch in range(epochs):\n",
    "        model.fit(X_train, y_train, batch_size=32, epochs=1, validation_split=0.2, verbose=2)\n",
    "        test_loss, test_accuracy = model.evaluate(X_test, y_test, verbose=2)\n",
    "        print(f\"Epoch {epoch + 1}: Test Accuracy = {test_accuracy * 100:.2f}%\")\n",
    "        epochs_used = epoch + 1\n",
    "\n",
    "        if test_accuracy * 100 >= target_accuracy:\n",
    "            print(f\"Target accuracy of {target_accuracy}% reached. Stopping training.\")\n",
    "            break\n",
    "\n",
    "    memory_after = measure_memory()\n",
    "    train_time = time.time() - start_time\n",
    "    memory_used = memory_after - memory_before\n",
    "\n",
    "    final_train_accuracy = model.evaluate(X_train, y_train, verbose=0)[1] * 100\n",
    "\n",
    "    return final_train_accuracy, test_accuracy * 100, train_time, memory_used, epochs_used"
   ]
  },
  {
   "cell_type": "code",
   "execution_count": 9,
   "id": "17dc8f40-0d8f-4b13-9107-72fbb721a01a",
   "metadata": {
    "ExecuteTime": {
     "start_time": "2024-08-22T19:44:59.600578800Z"
    }
   },
   "outputs": [],
   "source": [
    "def train_nn_IMDB(X_train, y_train, X_test, y_test, input_shape, num_classes, epochs=50, target_accuracy=90):\n",
    "    model = tf.keras.Sequential([\n",
    "        tf.keras.layers.Embedding(input_dim=5000, output_dim=128),\n",
    "        tf.keras.layers.GlobalAveragePooling1D(),\n",
    "        tf.keras.layers.Dense(128, activation='relu'),\n",
    "        tf.keras.layers.Dropout(0.5),\n",
    "        tf.keras.layers.Dense(num_classes, activation='sigmoid')\n",
    "    ])\n",
    "\n",
    "    model.compile(optimizer='adam', loss='binary_crossentropy', metrics=['accuracy'])\n",
    "\n",
    "    start_time = time.time()\n",
    "    memory_before = measure_memory()\n",
    "    epochs_used = 0\n",
    "\n",
    "    for epoch in range(epochs):\n",
    "        model.fit(X_train, y_train, batch_size=64, epochs=1, validation_split=0.2, verbose=2)\n",
    "        test_loss, test_accuracy = model.evaluate(X_test, y_test, verbose=0)\n",
    "        print(f\"Epoch {epoch + 1}: Test Accuracy = {test_accuracy * 100:.2f}%\")\n",
    "        epochs_used = epoch + 1\n",
    "\n",
    "        if test_accuracy * 100 >= target_accuracy:\n",
    "            print(f\"Target accuracy of {target_accuracy}% reached. Stopping training.\")\n",
    "            break\n",
    "\n",
    "    memory_after = measure_memory()\n",
    "    train_time = time.time() - start_time\n",
    "    memory_used = memory_after - memory_before\n",
    "\n",
    "    final_train_accuracy = model.evaluate(X_train, y_train, verbose=0)[1] * 100\n",
    "\n",
    "    return final_train_accuracy, test_accuracy * 100, train_time, memory_used, epochs_used"
   ]
  },
  {
   "cell_type": "code",
   "execution_count": 10,
   "id": "14608761-d3d2-4f39-969a-111a13021805",
   "metadata": {
    "ExecuteTime": {
     "start_time": "2024-08-22T19:44:59.601579Z"
    }
   },
   "outputs": [],
   "source": [
    "def train_nn(X_train, y_train, X_test, y_test, input_shape, num_classes, epochs=20, target_accuracy=90):\n",
    "    model = tf.keras.Sequential([\n",
    "        tf.keras.Input(shape=(input_shape,)),\n",
    "        tf.keras.layers.Dense(128, activation='relu'),\n",
    "        tf.keras.layers.Dense(128, activation='relu'),\n",
    "        tf.keras.layers.Dropout(0.2),\n",
    "        tf.keras.layers.Dense(num_classes, activation='softmax')\n",
    "    ])\n",
    "    optimizer = tf.keras.optimizers.Adam(learning_rate=0.0001)\n",
    "    model.compile(optimizer=optimizer, loss='categorical_crossentropy', metrics=['accuracy'])\n",
    "\n",
    "    start_time = time.time()\n",
    "    memory_before = measure_memory()\n",
    "    epochs_used = 0\n",
    "\n",
    "    for epoch in range(epochs):\n",
    "        model.fit(X_train, y_train, batch_size=128, epochs=1, validation_split=0.2, verbose=2)\n",
    "        test_loss, test_accuracy = model.evaluate(X_test, y_test, verbose=2)\n",
    "        print(f\"Epoch {epoch + 1}: Test Accuracy = {test_accuracy * 100:.2f}%\")\n",
    "        epochs_used = epoch + 1\n",
    "\n",
    "        if test_accuracy * 100 >= target_accuracy:\n",
    "            print(f\"Target accuracy of {target_accuracy}% reached. Stopping training.\")\n",
    "            break\n",
    "\n",
    "    memory_after = measure_memory()\n",
    "    train_time = time.time() - start_time\n",
    "    memory_used = memory_after - memory_before\n",
    "\n",
    "    final_train_accuracy = model.evaluate(X_train, y_train, verbose=0)[1] * 100\n",
    "\n",
    "    return final_train_accuracy, test_accuracy * 100, train_time, memory_used, epochs_used"
   ]
  },
  {
   "cell_type": "code",
   "execution_count": 11,
   "id": "7bd10fa9-b2dc-447e-a12e-3ffd782a53a2",
   "metadata": {
    "ExecuteTime": {
     "start_time": "2024-08-22T19:44:59.602579100Z"
    }
   },
   "outputs": [],
   "source": [
    "def train_tm(X_train, y_train, X_test, y_test, num_clauses, T, s, epochs=10,target_accuracy=90,max_included_literals=100):\n",
    "    if isinstance(X_train, csr_matrix):\n",
    "        X_train = X_train.toarray()\n",
    "    if isinstance(X_test, csr_matrix):\n",
    "        X_test = X_test.toarray()\n",
    "\n",
    "    tm = TMClassifier(\n",
    "        type_iii_feedback=False,\n",
    "        number_of_clauses=num_clauses,\n",
    "        T=T,\n",
    "        s=s,\n",
    "        max_included_literals=max_included_literals,\n",
    "        platform=\"CPU\",\n",
    "        weighted_clauses=True,\n",
    "        seed=42\n",
    "    )\n",
    "\n",
    "    start_time = time.time()\n",
    "    memory_before = measure_memory()\n",
    "    epochs_used = 0\n",
    "\n",
    "    for epoch in range(epochs):\n",
    "        tm.fit(X_train, y_train)\n",
    "        test_accuracy = 100 * (tm.predict(X_test) == y_test).mean()\n",
    "        print(f\"Epoch {epoch + 1}: Test Accuracy = {test_accuracy:.2f}%\")\n",
    "        epochs_used = epoch + 1\n",
    "\n",
    "        if test_accuracy >= target_accuracy:\n",
    "            print(f\"Target accuracy of {target_accuracy}% reached. Stopping training.\")\n",
    "            break\n",
    "\n",
    "    \n",
    "    train_time = time.time() - start_time\n",
    "\n",
    "    train_accuracy = 100 * (tm.predict(X_train) == y_train).mean()\n",
    "    memory_after = measure_memory()\n",
    "    memory_used = memory_after - memory_before\n",
    "\n",
    "    return train_accuracy, test_accuracy, train_time, memory_used, epochs_used"
   ]
  },
  {
   "cell_type": "code",
   "execution_count": 12,
   "id": "9b685aa9-d3c8-4fc5-a9b2-117651c2c476",
   "metadata": {
    "ExecuteTime": {
     "start_time": "2024-08-22T19:44:59.602579100Z"
    }
   },
   "outputs": [],
   "source": [
    "def train_tm_IMDB():\n",
    "    \n",
    "    (train_x, train_y), (test_x, test_y) = tf.keras.datasets.imdb.load_data(num_words=2000, index_from=2)\n",
    "\n",
    "    # Processing the Vocabulary\n",
    "    word_to_id = tf.keras.datasets.imdb.get_word_index()\n",
    "    word_to_id = {k: (v + 2) for k, v in word_to_id.items()}\n",
    "    word_to_id[\"<PAD>\"] = 0\n",
    "    word_to_id[\"<START>\"] = 1\n",
    "    word_to_id[\"<UNK>\"] = 2\n",
    "    id_to_word = {value: key for key, value in word_to_id.items()}\n",
    "\n",
    "    # Decoding Reviews into Text\n",
    "    def decode_reviews(data):\n",
    "        documents = []\n",
    "        for sequence in data:\n",
    "            documents.append([id_to_word.get(word_id, \"<UNK>\") for word_id in sequence])\n",
    "        return documents\n",
    "\n",
    "    training_documents = decode_reviews(train_x)\n",
    "    testing_documents = decode_reviews(test_x)\n",
    "\n",
    "    # Bag-of-Words Representation\n",
    "    vectorizer_X = CountVectorizer(tokenizer=lambda s: s, token_pattern=None, ngram_range=(1, 2), lowercase=False, binary=True)\n",
    "    X_train = vectorizer_X.fit_transform(training_documents)\n",
    "    X_test = vectorizer_X.transform(testing_documents)\n",
    "    Y_train = train_y.astype(np.uint32)\n",
    "    Y_test = test_y.astype(np.uint32)\n",
    "\n",
    "    # Feature SelectionReduces the feature space to the most relevant words or bigrams, \n",
    "    # which can improve classifier performance and reduce computational load.\n",
    "    SKB = SelectKBest(chi2, k=2000)\n",
    "    X_train = SKB.fit_transform(X_train, Y_train).toarray().astype(np.uint32)\n",
    "    X_test = SKB.transform(X_test).toarray().astype(np.uint32)\n",
    "\n",
    "    tm = TMClassifier(200, T=4000, s=2.0, platform=\"CPU\", weighted_clauses=True, clause_drop_p=0.75)\n",
    "\n",
    "    train_accuracies = []\n",
    "    test_accuracies = []\n",
    "    epoch_times = []\n",
    "    memory_before = measure_memory()\n",
    "    epochs_used = 0\n",
    "    epochs = 20\n",
    "\n",
    "    for epoch in range(epochs):\n",
    "        start_time = time.time()\n",
    "\n",
    "        tm.fit(X_train, Y_train)\n",
    "\n",
    "        end_time = time.time()\n",
    "        epoch_time = end_time - start_time\n",
    "\n",
    "        train_accuracy = 100 * (tm.predict(X_train) == Y_train).mean()\n",
    "        test_accuracy = 100 * (tm.predict(X_test) == Y_test).mean()\n",
    "\n",
    "        train_accuracies.append(train_accuracy)\n",
    "        test_accuracies.append(test_accuracy)\n",
    "        epoch_times.append(epoch_time)\n",
    "\n",
    "        print(f\"Epoch: {epoch + 1}, Training Accuracy: {train_accuracy:.2f}%, \"\n",
    "              f\"Test Accuracy: {test_accuracy:.2f}%, Training Time: {epoch_time:.2f} seconds\")\n",
    "\n",
    "        epochs_used = epoch + 1\n",
    "        if test_accuracy >= 87:\n",
    "            print(f\"Target accuracy of {87}% reached. Stopping training.\")\n",
    "            break\n",
    "            \n",
    "    memory_after = measure_memory()\n",
    "    memory_used = memory_after - memory_before\n",
    "\n",
    "    return train_accuracies[-1], test_accuracies[-1], sum(epoch_times), memory_used, epochs_used"
   ]
  },
  {
   "cell_type": "code",
   "execution_count": 13,
   "id": "12fd4ada-8afb-472d-9138-0e7c1dcf4add",
   "metadata": {
    "ExecuteTime": {
     "start_time": "2024-08-22T19:44:59.603578600Z"
    }
   },
   "outputs": [],
   "source": [
    "def train_tm_mnist():\n",
    "\n",
    "    data = MNIST().get()\n",
    "\n",
    "    tm = TMClassifier(\n",
    "        type_iii_feedback=False, number_of_clauses=200, T=1000, s=5, max_included_literals=32,\n",
    "        platform=\"CPU\", weighted_clauses=True, seed=42,\n",
    "    )\n",
    "\n",
    "    train_accuracies = []\n",
    "    test_accuracies = []\n",
    "    epoch_times = []\n",
    "    memory_before = measure_memory()\n",
    "    epochs_used = 0\n",
    "\n",
    "    for epoch in range(20):\n",
    "        start_time = time.time() \n",
    "\n",
    "        tm.fit(data[\"x_train\"].astype(np.uint32), data[\"y_train\"].astype(np.uint32))\n",
    "\n",
    "        end_time = time.time() \n",
    "        epoch_time = end_time - start_time\n",
    "\n",
    "        train_accuracy = 100 * (tm.predict(data[\"x_train\"]) == data[\"y_train\"]).mean()\n",
    "        test_accuracy = 100 * (tm.predict(data[\"x_test\"]) == data[\"y_test\"]).mean()\n",
    "\n",
    "        train_accuracies.append(train_accuracy)\n",
    "        test_accuracies.append(test_accuracy)\n",
    "        epoch_times.append(epoch_time)\n",
    "\n",
    "        print(f\"Epoch: {epoch + 1}, Training Accuracy: {train_accuracy:.2f}%, \"\n",
    "              f\"Test Accuracy: {test_accuracy:.2f}%, Training Time: {epoch_time:.2f} seconds\")\n",
    "        epochs_used = epoch + 1\n",
    "        if test_accuracy >= 95:\n",
    "            print(f\"Target accuracy of {95}% reached. Stopping training.\")\n",
    "            break\n",
    "    memory_after = measure_memory()\n",
    "    memory_used = memory_after - memory_before\n",
    "\n",
    "    return train_accuracies[-1], test_accuracies[-1], sum(epoch_times), memory_used, epochs_used"
   ]
  },
  {
   "cell_type": "markdown",
   "id": "8eef58a7-f498-45bd-9d49-c0acc2b6ce8c",
   "metadata": {},
   "source": [
    "### Define the dataset and target accuracy"
   ]
  },
  {
   "cell_type": "code",
   "execution_count": 14,
   "id": "8a59a7aa-ab87-4023-a314-48f249c77848",
   "metadata": {
    "ExecuteTime": {
     "start_time": "2024-08-22T19:44:59.604579100Z"
    }
   },
   "outputs": [],
   "source": [
    "    datasets = {\n",
    "        \"Iris\": (preprocess_iris(), 90),\n",
    "        \"Wine\": (preprocess_wine(), 80),\n",
    "        \"IMDB\": (preprocess_imdb(), 87),\n",
    "        \"MNIST\": (preprocess_mnist(), 95)\n",
    "    }\n",
    "\n",
    "    results = {}"
   ]
  },
  {
   "cell_type": "markdown",
   "id": "37a24b70-b83f-4ee6-812e-b9d062bcf298",
   "metadata": {},
   "source": [
    "### Dataset training and evaluation"
   ]
  },
  {
   "cell_type": "code",
   "execution_count": 15,
   "id": "03291631-abaf-4d75-a3fc-d299dee9f8af",
   "metadata": {
    "ExecuteTime": {
     "start_time": "2024-08-22T19:44:59.604579100Z"
    }
   },
   "outputs": [
    {
     "name": "stdout",
     "output_type": "stream",
     "text": [
      "\n",
      "Training on Iris dataset with Neural Network:\n",
      "3/3 - 1s - 171ms/step - accuracy: 0.3229 - loss: 1.1162 - val_accuracy: 0.5000 - val_loss: 0.8713\n",
      "1/1 - 0s - 12ms/step - accuracy: 0.6333 - loss: 0.8327\n",
      "Epoch 1: Test Accuracy = 63.33%\n",
      "3/3 - 0s - 15ms/step - accuracy: 0.6250 - loss: 0.8473 - val_accuracy: 0.7083 - val_loss: 0.6521\n",
      "1/1 - 0s - 14ms/step - accuracy: 0.7000 - loss: 0.6676\n",
      "Epoch 2: Test Accuracy = 70.00%\n",
      "3/3 - 0s - 16ms/step - accuracy: 0.6771 - loss: 0.6394 - val_accuracy: 0.5000 - val_loss: 0.6291\n",
      "1/1 - 0s - 12ms/step - accuracy: 0.8000 - loss: 0.5660\n",
      "Epoch 3: Test Accuracy = 80.00%\n",
      "3/3 - 0s - 16ms/step - accuracy: 0.7708 - loss: 0.5579 - val_accuracy: 0.5000 - val_loss: 0.6337\n",
      "1/1 - 0s - 13ms/step - accuracy: 0.6333 - loss: 0.5486\n",
      "Epoch 4: Test Accuracy = 63.33%\n",
      "3/3 - 0s - 16ms/step - accuracy: 0.8438 - loss: 0.4614 - val_accuracy: 0.9167 - val_loss: 0.4071\n",
      "1/1 - 0s - 13ms/step - accuracy: 0.8000 - loss: 0.4031\n",
      "Epoch 5: Test Accuracy = 80.00%\n",
      "3/3 - 0s - 15ms/step - accuracy: 0.7500 - loss: 0.4406 - val_accuracy: 1.0000 - val_loss: 0.3741\n",
      "1/1 - 0s - 13ms/step - accuracy: 0.9333 - loss: 0.3598\n",
      "Epoch 6: Test Accuracy = 93.33%\n",
      "Target accuracy of 90% reached. Stopping training.\n",
      "\n",
      "Training on Iris dataset with Tsetlin Machine:\n",
      "Epoch 1: Test Accuracy = 93.33%\n",
      "Target accuracy of 90% reached. Stopping training.\n",
      "\n",
      "Results for Iris dataset:\n",
      "Neural Network Results:\n",
      "Test Accuracy: 93.33%\n",
      "Training Time: 1.07 seconds\n",
      "Memory Used: 45.36 MB\n",
      "Epochs Used: 6\n",
      "Tsetlin Machine Results:\n",
      "Test Accuracy: 93.33%\n",
      "Training Time: 0.01 seconds\n",
      "Memory Used: 0.21 MB\n",
      "Epochs Used: 1\n"
     ]
    }
   ],
   "source": [
    "name = \"Iris\"\n",
    "data, target_accuracy = datasets[name]\n",
    "X_train, X_test, y_train, y_test, input_shape, num_classes = data\n",
    "\n",
    "print(f\"\\nTraining on {name} dataset with Neural Network:\")\n",
    "nn_results = train_nn_iris(X_train, y_train, X_test, y_test, input_shape, epochs=50, target_accuracy=target_accuracy)\n",
    "\n",
    "print(f\"\\nTraining on {name} dataset with Tsetlin Machine:\")\n",
    "tm_results = train_tm(X_train.astype(np.uint32), y_train.argmax(axis=1).astype(np.uint32),\n",
    "                      X_test.astype(np.uint32), y_test.argmax(axis=1).astype(np.uint32),\n",
    "                      num_clauses=500, T=1000, s=1, epochs=50, target_accuracy=target_accuracy)\n",
    "\n",
    "results[name] = {\n",
    "    \"Neural Network\": nn_results,\n",
    "    \"Tsetlin Machine\": tm_results\n",
    "}\n",
    "\n",
    "print(f\"\\nResults for {name} dataset:\")\n",
    "print(\"Neural Network Results:\")\n",
    "print(f\"Test Accuracy: {nn_results[1]:.2f}%\")\n",
    "print(f\"Training Time: {nn_results[2]:.2f} seconds\")\n",
    "print(f\"Memory Used: {nn_results[3]:.2f} MB\")\n",
    "print(f\"Epochs Used: {nn_results[4]}\")  \n",
    "\n",
    "print(\"Tsetlin Machine Results:\")\n",
    "print(f\"Test Accuracy: {tm_results[1]:.2f}%\")\n",
    "print(f\"Training Time: {tm_results[2]:.2f} seconds\")\n",
    "print(f\"Memory Used: {tm_results[3]:.2f} MB\")\n",
    "print(f\"Epochs Used: {tm_results[4]}\") \n"
   ]
  },
  {
   "cell_type": "code",
   "execution_count": 16,
   "id": "8ae55a4e-ab2a-40fc-905d-f2d6db199c8f",
   "metadata": {
    "ExecuteTime": {
     "start_time": "2024-08-22T19:44:59.605578800Z"
    }
   },
   "outputs": [
    {
     "name": "stdout",
     "output_type": "stream",
     "text": [
      "\n",
      "Training on Wine dataset with Neural Network:\n",
      "4/4 - 1s - 138ms/step - accuracy: 0.3628 - loss: 1.0866 - val_accuracy: 0.5517 - val_loss: 0.9499\n",
      "2/2 - 0s - 6ms/step - accuracy: 0.4167 - loss: 1.0253\n",
      "Epoch 1: Test Accuracy = 41.67%\n",
      "4/4 - 0s - 11ms/step - accuracy: 0.5575 - loss: 0.9334 - val_accuracy: 0.7241 - val_loss: 0.8166\n",
      "2/2 - 0s - 6ms/step - accuracy: 0.6111 - loss: 0.8912\n",
      "Epoch 2: Test Accuracy = 61.11%\n",
      "4/4 - 0s - 11ms/step - accuracy: 0.7168 - loss: 0.8016 - val_accuracy: 0.7931 - val_loss: 0.7047\n",
      "2/2 - 0s - 7ms/step - accuracy: 0.7778 - loss: 0.7739\n",
      "Epoch 3: Test Accuracy = 77.78%\n",
      "4/4 - 0s - 11ms/step - accuracy: 0.8053 - loss: 0.6929 - val_accuracy: 0.8276 - val_loss: 0.6099\n",
      "2/2 - 0s - 6ms/step - accuracy: 0.8611 - loss: 0.6708\n",
      "Epoch 4: Test Accuracy = 86.11%\n",
      "Target accuracy of 80% reached. Stopping training.\n",
      "\n",
      "Training on Wine dataset with Tsetlin Machine:\n",
      "Epoch 1: Test Accuracy = 66.67%\n",
      "Epoch 2: Test Accuracy = 75.00%\n",
      "Epoch 3: Test Accuracy = 66.67%\n",
      "Epoch 4: Test Accuracy = 77.78%\n",
      "Epoch 5: Test Accuracy = 72.22%\n",
      "Epoch 6: Test Accuracy = 72.22%\n",
      "Epoch 7: Test Accuracy = 75.00%\n",
      "Epoch 8: Test Accuracy = 75.00%\n",
      "Epoch 9: Test Accuracy = 77.78%\n",
      "Epoch 10: Test Accuracy = 75.00%\n",
      "Epoch 11: Test Accuracy = 77.78%\n",
      "Epoch 12: Test Accuracy = 80.56%\n",
      "Target accuracy of 80% reached. Stopping training.\n",
      "\n",
      "Results for Wine dataset:\n",
      "Neural Network Results:\n",
      "Test Accuracy: 86.11%\n",
      "Training Time: 0.90 seconds\n",
      "Memory Used: 14.22 MB\n",
      "Epochs Used: 4\n",
      "Tsetlin Machine Results:\n",
      "Test Accuracy: 80.56%\n",
      "Training Time: 0.12 seconds\n",
      "Memory Used: 0.02 MB\n",
      "Epochs Used: 12\n"
     ]
    }
   ],
   "source": [
    "name = \"Wine\"\n",
    "data, target_accuracy = datasets[name]\n",
    "X_train, X_test, y_train, y_test, input_shape, num_classes = data\n",
    "\n",
    "print(f\"\\nTraining on {name} dataset with Neural Network:\")\n",
    "nn_results = train_nn_wine(X_train, y_train, X_test, y_test, input_shape, num_classes, epochs=50, target_accuracy=target_accuracy)\n",
    "\n",
    "print(f\"\\nTraining on {name} dataset with Tsetlin Machine:\")\n",
    "tm_results = train_tm(X_train.astype(np.uint32), y_train.argmax(axis=1).astype(np.uint32),\n",
    "                      X_test.astype(np.uint32), y_test.argmax(axis=1).astype(np.uint32),\n",
    "                      num_clauses=500, T=15, s=3.9, epochs=50, target_accuracy=target_accuracy)\n",
    "\n",
    "results[name] = {\n",
    "    \"Neural Network\": nn_results,\n",
    "    \"Tsetlin Machine\": tm_results\n",
    "}\n",
    "\n",
    "print(f\"\\nResults for {name} dataset:\")\n",
    "print(\"Neural Network Results:\")\n",
    "print(f\"Test Accuracy: {nn_results[1]:.2f}%\")\n",
    "print(f\"Training Time: {nn_results[2]:.2f} seconds\")\n",
    "print(f\"Memory Used: {nn_results[3]:.2f} MB\")\n",
    "print(f\"Epochs Used: {nn_results[4]}\")\n",
    "\n",
    "print(\"Tsetlin Machine Results:\")\n",
    "print(f\"Test Accuracy: {tm_results[1]:.2f}%\")\n",
    "print(f\"Training Time: {tm_results[2]:.2f} seconds\")\n",
    "print(f\"Memory Used: {tm_results[3]:.2f} MB\")\n",
    "print(f\"Epochs Used: {tm_results[4]}\")  \n"
   ]
  },
  {
   "cell_type": "code",
   "execution_count": 17,
   "id": "518c8518-338e-40cb-9466-eabff48c5b46",
   "metadata": {
    "ExecuteTime": {
     "start_time": "2024-08-22T19:44:59.606578700Z"
    }
   },
   "outputs": [
    {
     "name": "stdout",
     "output_type": "stream",
     "text": [
      "\n",
      "Training on IMDB dataset with Neural Network:\n",
      "313/313 - 1s - 4ms/step - accuracy: 0.7014 - loss: 0.5523 - val_accuracy: 0.8604 - val_loss: 0.3462\n",
      "Epoch 1: Test Accuracy = 85.78%\n",
      "313/313 - 1s - 3ms/step - accuracy: 0.8671 - loss: 0.3174 - val_accuracy: 0.8594 - val_loss: 0.3201\n",
      "Epoch 2: Test Accuracy = 85.90%\n",
      "313/313 - 1s - 3ms/step - accuracy: 0.8851 - loss: 0.2816 - val_accuracy: 0.8780 - val_loss: 0.2973\n",
      "Epoch 3: Test Accuracy = 87.52%\n",
      "Target accuracy of 87% reached. Stopping training.\n",
      "\n",
      "Training on IMDB dataset with Tsetlin Machine:\n",
      "Epoch: 1, Training Accuracy: 86.71%, Test Accuracy: 85.08%, Training Time: 7.96 seconds\n",
      "Epoch: 2, Training Accuracy: 88.01%, Test Accuracy: 86.67%, Training Time: 7.64 seconds\n",
      "Epoch: 3, Training Accuracy: 88.36%, Test Accuracy: 87.02%, Training Time: 6.53 seconds\n",
      "Target accuracy of 87% reached. Stopping training.\n",
      "\n",
      "Results for IMDB dataset:\n",
      "Neural Network Results:\n",
      "Test Accuracy: 87.52%\n",
      "Training Time: 4.54 seconds\n",
      "Memory Used: 67.80 MB\n",
      "Epochs Used: 3\n",
      "Tsetlin Machine Results:\n",
      "Test Accuracy: 87.02%\n",
      "Training Time: 22.13 seconds\n",
      "Memory Used: 20.43 MB\n",
      "Epochs Used: 3\n"
     ]
    }
   ],
   "source": [
    "name = \"IMDB\"\n",
    "data, target_accuracy = datasets[name]\n",
    "X_train, X_test, y_train, y_test, input_shape, num_classes = data\n",
    "\n",
    "print(f\"\\nTraining on {name} dataset with Neural Network:\")\n",
    "nn_results = train_nn_IMDB(X_train, y_train, X_test, y_test, input_shape, num_classes, epochs=50, target_accuracy=target_accuracy)\n",
    "\n",
    "print(f\"\\nTraining on {name} dataset with Tsetlin Machine:\")\n",
    "tm_results = train_tm_IMDB()\n",
    "\n",
    "results[name] = {\n",
    "    \"Neural Network\": nn_results,\n",
    "    \"Tsetlin Machine\": tm_results\n",
    "}\n",
    "\n",
    "print(f\"\\nResults for {name} dataset:\")\n",
    "print(\"Neural Network Results:\")\n",
    "print(f\"Test Accuracy: {nn_results[1]:.2f}%\")\n",
    "print(f\"Training Time: {nn_results[2]:.2f} seconds\")\n",
    "print(f\"Memory Used: {nn_results[3]:.2f} MB\")\n",
    "print(f\"Epochs Used: {nn_results[4]}\")  \n",
    "\n",
    "print(\"Tsetlin Machine Results:\")\n",
    "print(f\"Test Accuracy: {tm_results[1]:.2f}%\")\n",
    "print(f\"Training Time: {tm_results[2]:.2f} seconds\")\n",
    "print(f\"Memory Used: {tm_results[3]:.2f} MB\")\n",
    "print(f\"Epochs Used: {tm_results[4]}\")  \n"
   ]
  },
  {
   "cell_type": "code",
   "execution_count": 18,
   "id": "3b4d82a5-b4ac-4d01-a4b8-f65bf59911ca",
   "metadata": {
    "ExecuteTime": {
     "start_time": "2024-08-22T19:44:59.606578700Z"
    }
   },
   "outputs": [
    {
     "name": "stdout",
     "output_type": "stream",
     "text": [
      "\n",
      "Training on MNIST dataset with Neural Network:\n",
      "375/375 - 1s - 3ms/step - accuracy: 0.7002 - loss: 1.0940 - val_accuracy: 0.8891 - val_loss: 0.4324\n",
      "313/313 - 0s - 542us/step - accuracy: 0.8869 - loss: 0.4385\n",
      "Epoch 1: Test Accuracy = 88.69%\n",
      "375/375 - 1s - 1ms/step - accuracy: 0.8780 - loss: 0.4304 - val_accuracy: 0.9148 - val_loss: 0.3068\n",
      "313/313 - 0s - 479us/step - accuracy: 0.9138 - loss: 0.3099\n",
      "Epoch 2: Test Accuracy = 91.38%\n",
      "375/375 - 1s - 1ms/step - accuracy: 0.9048 - loss: 0.3340 - val_accuracy: 0.9268 - val_loss: 0.2602\n",
      "313/313 - 0s - 525us/step - accuracy: 0.9270 - loss: 0.2636\n",
      "Epoch 3: Test Accuracy = 92.70%\n",
      "375/375 - 1s - 1ms/step - accuracy: 0.9180 - loss: 0.2847 - val_accuracy: 0.9365 - val_loss: 0.2279\n",
      "313/313 - 0s - 521us/step - accuracy: 0.9346 - loss: 0.2305\n",
      "Epoch 4: Test Accuracy = 93.46%\n",
      "375/375 - 1s - 1ms/step - accuracy: 0.9274 - loss: 0.2545 - val_accuracy: 0.9427 - val_loss: 0.2090\n",
      "313/313 - 0s - 524us/step - accuracy: 0.9416 - loss: 0.2094\n",
      "Epoch 5: Test Accuracy = 94.16%\n",
      "375/375 - 1s - 1ms/step - accuracy: 0.9340 - loss: 0.2305 - val_accuracy: 0.9453 - val_loss: 0.1934\n",
      "313/313 - 0s - 499us/step - accuracy: 0.9451 - loss: 0.1936\n",
      "Epoch 6: Test Accuracy = 94.51%\n",
      "375/375 - 1s - 1ms/step - accuracy: 0.9394 - loss: 0.2111 - val_accuracy: 0.9492 - val_loss: 0.1806\n",
      "313/313 - 0s - 515us/step - accuracy: 0.9478 - loss: 0.1795\n",
      "Epoch 7: Test Accuracy = 94.78%\n",
      "375/375 - 1s - 1ms/step - accuracy: 0.9442 - loss: 0.1938 - val_accuracy: 0.9513 - val_loss: 0.1705\n",
      "313/313 - 0s - 539us/step - accuracy: 0.9505 - loss: 0.1675\n",
      "Epoch 8: Test Accuracy = 95.05%\n",
      "Target accuracy of 95% reached. Stopping training.\n",
      "\n",
      "Training on MNIST dataset with Tsetlin Machine:\n",
      "Epoch: 1, Training Accuracy: 93.01%, Test Accuracy: 93.01%, Training Time: 5.38 seconds\n",
      "Epoch: 2, Training Accuracy: 94.45%, Test Accuracy: 94.53%, Training Time: 4.22 seconds\n",
      "Epoch: 3, Training Accuracy: 95.08%, Test Accuracy: 95.16%, Training Time: 4.06 seconds\n",
      "Target accuracy of 95% reached. Stopping training.\n",
      "\n",
      "Results for MNIST dataset:\n",
      "Neural Network Results:\n",
      "Test Accuracy: 95.05%\n",
      "Training Time: 7.05 seconds\n",
      "Memory Used: 27.04 MB\n",
      "Epochs Used: 8\n",
      "Tsetlin Machine Results:\n",
      "Test Accuracy: 95.16%\n",
      "Training Time: 13.67 seconds\n",
      "Memory Used: 16.29 MB\n",
      "Epochs Used: 3\n"
     ]
    }
   ],
   "source": [
    "name = \"MNIST\"\n",
    "data, target_accuracy = datasets[name]\n",
    "X_train, X_test, y_train, y_test, input_shape, num_classes = data\n",
    "\n",
    "print(f\"\\nTraining on {name} dataset with Neural Network:\")\n",
    "nn_results = train_nn(X_train, y_train, X_test, y_test, input_shape, num_classes, epochs=50, target_accuracy=target_accuracy)\n",
    "\n",
    "print(f\"\\nTraining on {name} dataset with Tsetlin Machine:\")\n",
    "tm_results = train_tm_mnist()\n",
    "\n",
    "results[name] = {\n",
    "    \"Neural Network\": nn_results,\n",
    "    \"Tsetlin Machine\": tm_results\n",
    "}\n",
    "\n",
    "print(f\"\\nResults for {name} dataset:\")\n",
    "print(\"Neural Network Results:\")\n",
    "print(f\"Test Accuracy: {nn_results[1]:.2f}%\")\n",
    "print(f\"Training Time: {nn_results[2]:.2f} seconds\")\n",
    "print(f\"Memory Used: {nn_results[3]:.2f} MB\")\n",
    "print(f\"Epochs Used: {nn_results[4]}\") \n",
    "\n",
    "print(\"Tsetlin Machine Results:\")\n",
    "print(f\"Test Accuracy: {tm_results[1]:.2f}%\")\n",
    "print(f\"Training Time: {tm_results[2]:.2f} seconds\")\n",
    "print(f\"Memory Used: {tm_results[3]:.2f} MB\")\n",
    "print(f\"Epochs Used: {tm_results[4]}\")  \n"
   ]
  },
  {
   "cell_type": "markdown",
   "id": "8f47ae5b-6c95-4ac8-88f4-a6cec1669112",
   "metadata": {},
   "source": [
    "### Plot the resulting image"
   ]
  },
  {
   "cell_type": "code",
   "execution_count": 26,
   "id": "3fdf456b-4499-4b82-853d-14661b185267",
   "metadata": {
    "ExecuteTime": {
     "start_time": "2024-08-22T19:44:59.607745900Z"
    }
   },
   "outputs": [
    {
     "data": {
      "image/png": "[encoded data removed]",
      "text/plain": [
       "<Figure size 1200x1800 with 3 Axes>"
      ]
     },
     "metadata": {},
     "output_type": "display_data"
    }
   ],
   "source": [
    "datasets = list(results.keys())\n",
    "nn_train_time = [results[ds][\"Neural Network\"][2] for ds in datasets]\n",
    "nn_memory_used = [results[ds][\"Neural Network\"][3] for ds in datasets]\n",
    "\n",
    "tm_train_time = [results[ds][\"Tsetlin Machine\"][2] for ds in datasets]\n",
    "tm_memory_used = [results[ds][\"Tsetlin Machine\"][3] for ds in datasets]\n",
    "\n",
    "# Calculating number of epochs used for training (total time divided by average epoch time)\n",
    "nn_epochs = [results[ds][\"Neural Network\"][4] for ds in datasets]\n",
    "tm_epochs = [results[ds][\"Tsetlin Machine\"][4] for ds in datasets]\n",
    "\n",
    "x = np.arange(len(datasets))\n",
    "width = 0.2  \n",
    "\n",
    "fig, ax = plt.subplots(3, 1, figsize=(12, 18))\n",
    "\n",
    "nn_epochs_bars = ax[0].bar(x - width / 2, nn_epochs, width, label='NN Epochs Used')\n",
    "tm_epochs_bars = ax[0].bar(x + width / 2, tm_epochs, width, label='TM Epochs Used')\n",
    "\n",
    "ax[0].set_ylabel('Epochs')\n",
    "ax[0].set_title('Number of Epochs Used for Training')\n",
    "ax[0].set_xticks(x)\n",
    "ax[0].set_xticklabels(datasets)\n",
    "ax[0].legend()\n",
    "\n",
    "for bars in [nn_epochs_bars, tm_epochs_bars]:\n",
    "    for bar in bars:\n",
    "        height = bar.get_height()\n",
    "        ax[0].text(bar.get_x() + bar.get_width() / 2., height, f'{height}', ha='center', va='bottom')\n",
    "\n",
    "nn_train_time_bars = ax[1].bar(x - width / 2, nn_train_time, width, label='NN Training Time')\n",
    "tm_train_time_bars = ax[1].bar(x + width / 2, tm_train_time, width, label='TM Training Time')\n",
    "ax[1].set_ylabel('Time (seconds)')\n",
    "ax[1].set_title('Training Time Comparison')\n",
    "ax[1].set_xticks(x)\n",
    "ax[1].set_xticklabels(datasets)\n",
    "ax[1].legend()\n",
    "\n",
    "for bars in [nn_train_time_bars, tm_train_time_bars]:\n",
    "    for bar in bars:\n",
    "        height = bar.get_height()\n",
    "        ax[1].text(bar.get_x() + bar.get_width() / 2., height, f'{height:.2f}', ha='center', va='bottom')\n",
    "\n",
    "nn_memory_bars = ax[2].bar(x - width / 2, nn_memory_used, width, label='NN Memory Used')\n",
    "tm_memory_bars = ax[2].bar(x + width / 2, tm_memory_used, width, label='TM Memory Used')\n",
    "ax[2].set_ylabel('Memory (MB)')\n",
    "ax[2].set_title('Memory Usage Comparison')\n",
    "ax[2].set_xticks(x)\n",
    "ax[2].set_xticklabels(datasets)\n",
    "ax[2].legend()\n",
    "\n",
    "for bars in [nn_memory_bars, tm_memory_bars]:\n",
    "    for bar in bars:\n",
    "        height = bar.get_height()\n",
    "        ax[2].text(bar.get_x() + bar.get_width() / 2., height, f'{height:.2f} MB', ha='center', va='bottom')\n",
    "\n",
    "fig.tight_layout()\n",
    "plt.show()"
   ]
  },
  {
   "cell_type": "code",
   "execution_count": 24,
   "id": "05528aac-67f9-4762-a862-b9c4bfc09bb4",
   "metadata": {},
   "outputs": [
    {
     "data": {
      "text/html": [
       "<div>\n",
       "<style scoped>\n",
       "    .dataframe tbody tr th:only-of-type {\n",
       "        vertical-align: middle;\n",
       "    }\n",
       "\n",
       "    .dataframe tbody tr th {\n",
       "        vertical-align: top;\n",
       "    }\n",
       "\n",
       "    .dataframe thead th {\n",
       "        text-align: right;\n",
       "    }\n",
       "</style>\n",
       "<table border=\"1\" class=\"dataframe\">\n",
       "  <thead>\n",
       "    <tr style=\"text-align: right;\">\n",
       "      <th></th>\n",
       "      <th>Dataset</th>\n",
       "      <th>Model</th>\n",
       "      <th>Target Accuracy (%)</th>\n",
       "      <th>Training Time (s)</th>\n",
       "      <th>Memory Used (MB)</th>\n",
       "      <th>Epochs Used</th>\n",
       "    </tr>\n",
       "  </thead>\n",
       "  <tbody>\n",
       "    <tr>\n",
       "      <th>0</th>\n",
       "      <td>Iris</td>\n",
       "      <td>Neural Network</td>\n",
       "      <td>90</td>\n",
       "      <td>1.068348</td>\n",
       "      <td>45.355469</td>\n",
       "      <td>6</td>\n",
       "    </tr>\n",
       "    <tr>\n",
       "      <th>1</th>\n",
       "      <td>Iris</td>\n",
       "      <td>Tsetlin Machine</td>\n",
       "      <td>90</td>\n",
       "      <td>0.008430</td>\n",
       "      <td>0.210938</td>\n",
       "      <td>1</td>\n",
       "    </tr>\n",
       "    <tr>\n",
       "      <th>2</th>\n",
       "      <td>Wine</td>\n",
       "      <td>Neural Network</td>\n",
       "      <td>80</td>\n",
       "      <td>0.897581</td>\n",
       "      <td>14.218750</td>\n",
       "      <td>4</td>\n",
       "    </tr>\n",
       "    <tr>\n",
       "      <th>3</th>\n",
       "      <td>Wine</td>\n",
       "      <td>Tsetlin Machine</td>\n",
       "      <td>80</td>\n",
       "      <td>0.115490</td>\n",
       "      <td>0.023438</td>\n",
       "      <td>12</td>\n",
       "    </tr>\n",
       "    <tr>\n",
       "      <th>4</th>\n",
       "      <td>IMDB</td>\n",
       "      <td>Neural Network</td>\n",
       "      <td>87</td>\n",
       "      <td>4.540351</td>\n",
       "      <td>67.800781</td>\n",
       "      <td>3</td>\n",
       "    </tr>\n",
       "    <tr>\n",
       "      <th>5</th>\n",
       "      <td>IMDB</td>\n",
       "      <td>Tsetlin Machine</td>\n",
       "      <td>87</td>\n",
       "      <td>22.134461</td>\n",
       "      <td>20.425781</td>\n",
       "      <td>3</td>\n",
       "    </tr>\n",
       "    <tr>\n",
       "      <th>6</th>\n",
       "      <td>MNIST</td>\n",
       "      <td>Neural Network</td>\n",
       "      <td>95</td>\n",
       "      <td>7.046090</td>\n",
       "      <td>27.035156</td>\n",
       "      <td>8</td>\n",
       "    </tr>\n",
       "    <tr>\n",
       "      <th>7</th>\n",
       "      <td>MNIST</td>\n",
       "      <td>Tsetlin Machine</td>\n",
       "      <td>95</td>\n",
       "      <td>13.667397</td>\n",
       "      <td>16.292969</td>\n",
       "      <td>3</td>\n",
       "    </tr>\n",
       "  </tbody>\n",
       "</table>\n",
       "</div>"
      ],
      "text/plain": [
       "  Dataset            Model  Target Accuracy (%)  Training Time (s)  \\\n",
       "0    Iris   Neural Network                   90           1.068348   \n",
       "1    Iris  Tsetlin Machine                   90           0.008430   \n",
       "2    Wine   Neural Network                   80           0.897581   \n",
       "3    Wine  Tsetlin Machine                   80           0.115490   \n",
       "4    IMDB   Neural Network                   87           4.540351   \n",
       "5    IMDB  Tsetlin Machine                   87          22.134461   \n",
       "6   MNIST   Neural Network                   95           7.046090   \n",
       "7   MNIST  Tsetlin Machine                   95          13.667397   \n",
       "\n",
       "   Memory Used (MB)  Epochs Used  \n",
       "0         45.355469            6  \n",
       "1          0.210938            1  \n",
       "2         14.218750            4  \n",
       "3          0.023438           12  \n",
       "4         67.800781            3  \n",
       "5         20.425781            3  \n",
       "6         27.035156            8  \n",
       "7         16.292969            3  "
      ]
     },
     "metadata": {},
     "output_type": "display_data"
    }
   ],
   "source": [
    "import pandas as pd\n",
    "from IPython.display import display\n",
    "\n",
    "datasets = {\n",
    "        \"Iris\": (preprocess_iris(), 90),\n",
    "        \"Wine\": (preprocess_wine(), 80),\n",
    "        \"IMDB\": (preprocess_imdb(), 87),\n",
    "        \"MNIST\": (preprocess_mnist(), 95)\n",
    "    }\n",
    "\n",
    "flattened_results = []\n",
    "\n",
    "for dataset, models in results.items():\n",
    "    data, target_accuracy = datasets[dataset]  \n",
    "    for model_name, metrics in models.items():\n",
    "        flattened_results.append({\n",
    "            \"Dataset\": dataset,\n",
    "            \"Model\": model_name,\n",
    "            \"Target Accuracy (%)\": target_accuracy,\n",
    "            \"Training Time (s)\": metrics[2],\n",
    "            \"Memory Used (MB)\": metrics[3],\n",
    "            \"Epochs Used\": metrics[4]\n",
    "        })\n",
    "\n",
    "results_df = pd.DataFrame(flattened_results)\n",
    "\n",
    "display(results_df)\n"
   ]
  },
  {
   "cell_type": "code",
   "execution_count": null,
   "id": "b0ea977e-1b8c-48d0-952a-60fe43137caa",
   "metadata": {},
   "outputs": [],
   "source": []
  }
 ],
 "metadata": {
  "kernelspec": {
   "display_name": "Python 3 (ipykernel)",
   "language": "python",
   "name": "python3"
  },
  "language_info": {
   "codemirror_mode": {
    "name": "ipython",
    "version": 3
   },
   "file_extension": ".py",
   "mimetype": "text/x-python",
   "name": "python",
   "nbconvert_exporter": "python",
   "pygments_lexer": "ipython3",
   "version": "3.12.3"
  }
 },
 "nbformat": 4,
 "nbformat_minor": 5
}
